{
 "cells": [
  {
   "cell_type": "markdown",
   "metadata": {},
   "source": [
    "### Key Details : \n",
    "1. Submission By : Balaji T. Thiruvenkatachari\n",
    "2. Date : May 2021\n",
    "3. Problem : Happy Customer Bank looking  to cross sell its credit cards to its existing customers.\n",
    "4. Solution : Business Objective is to classify the list of customers (test set) who could be potential leads for Credit Cards. \n",
    "\n",
    "5. Notebook / Code : Code for EDA i.e. Exploratory Data Analysis"
   ]
  },
  {
   "cell_type": "markdown",
   "metadata": {},
   "source": [
    "### Key Technical / Analytics outcomes: \n",
    "1. To build a Binary Classification Model using Training Dataset (existing list of leads vs. non-leads) \n",
    "2. To use the Classification model  for scoring Target list of Bank Customers(Test data). "
   ]
  },
  {
   "cell_type": "markdown",
   "metadata": {},
   "source": [
    "### Training DataSet - Features : \n",
    "1. ID   \t\t\t\tUnique Identifier for a row\n",
    "2. Gender  \t\t\t    Gender of the Customer\n",
    "3. Age \t\t\t\t    Age of the Customer (in Years)\n",
    "4. Region_Code  \t\tCode of the Region for the customers\n",
    "5. Occupation  \t\t\tOccupation Type for the customer\n",
    "6. Channel_Code \t\tAcquisition Channel Code for the Customer  (Encoded)\n",
    "7. Vintage \t\t\t    Vintage for the Customer (In Months) / Duration of relationship with Bank\n",
    "8. Credit_Product  \t\tIf the Customer has any active credit product (Home loan, Personal loan, Credit Card etc.)\n",
    "9. Avg_Account_Balance \tAverage Account Balance for the Customer in last 12 Months\n",
    "10. Is_Active \t\t\tIf the Customer is Active in last 3 Months"
   ]
  },
  {
   "cell_type": "code",
   "execution_count": 23,
   "metadata": {},
   "outputs": [],
   "source": [
    "import pandas as pd\n",
    "import numpy as np\n",
    "import matplotlib.pyplot as plt\n",
    "import seaborn as sns"
   ]
  },
  {
   "cell_type": "code",
   "execution_count": 24,
   "metadata": {},
   "outputs": [],
   "source": [
    "df_data = pd.read_csv(\"train_s3TEQDk.csv\")"
   ]
  },
  {
   "cell_type": "code",
   "execution_count": 5,
   "metadata": {},
   "outputs": [
    {
     "data": {
      "text/plain": [
       "0    187437\n",
       "1     58288\n",
       "Name: Is_Lead, dtype: int64"
      ]
     },
     "execution_count": 5,
     "metadata": {},
     "output_type": "execute_result"
    }
   ],
   "source": [
    "# Gender : Male      13419, Female    111528\n",
    "# Lead : 1 - 58288, 187437\n",
    "\n",
    "df_data[\"Is_Lead\"].value_counts()"
   ]
  },
  {
   "cell_type": "code",
   "execution_count": 28,
   "metadata": {},
   "outputs": [
    {
     "data": {
      "text/plain": [
       "count    2.457250e+05\n",
       "mean     1.128403e+06\n",
       "std      8.529364e+05\n",
       "min      2.079000e+04\n",
       "25%      6.043100e+05\n",
       "50%      8.946010e+05\n",
       "75%      1.366666e+06\n",
       "max      1.035201e+07\n",
       "Name: Avg_Account_Balance, dtype: float64"
      ]
     },
     "execution_count": 28,
     "metadata": {},
     "output_type": "execute_result"
    }
   ],
   "source": [
    "df_data[\"Avg_Account_Balance\"].describe()"
   ]
  },
  {
   "cell_type": "code",
   "execution_count": 32,
   "metadata": {},
   "outputs": [
    {
     "data": {
      "text/plain": [
       "<AxesSubplot:ylabel='Frequency'>"
      ]
     },
     "execution_count": 32,
     "metadata": {},
     "output_type": "execute_result"
    },
    {
     "data": {
      "image/png": "[encoded data removed]",
      "text/plain": [
       "<Figure size 432x288 with 1 Axes>"
      ]
     },
     "metadata": {},
     "output_type": "display_data"
    }
   ],
   "source": [
    "# Usual Average Account balance is a good indicator of customer attributes in Banking scenario. \n",
    "# However, Average Account Balance is a numeric value. So we convert this into Categorical (Use concept of Binning).\n",
    "\n",
    "# Analysing the Histogram gives us a good indication of data distribution. So we can go for 5 to 7 bins\n",
    "sns.set_style('whitegrid')\n",
    "df_data['Avg_Account_Balance'].plot(kind='hist', bins=7)"
   ]
  },
  {
   "cell_type": "code",
   "execution_count": 37,
   "metadata": {},
   "outputs": [],
   "source": [
    "# Usually Average Account balance is a good indicator of customer attributes in Banking scenario. \n",
    "# However, Average Account Balance is a numeric value. So we convert this into Categorical (Use concept of Binning).\n",
    "\n",
    "bin_labels_5 = ['Bronze', 'Silver', 'Gold', 'Platinum', 'Diamond'] #Labels are data driven at this point - purely value based.\n",
    "df_data['Avg_Account_Balance'] = pd.qcut(df_data['Avg_Account_Balance'],\n",
    "                              q=[0, .2, .4, .6, .8, 1],\n",
    "                              labels=bin_labels_5)"
   ]
  },
  {
   "cell_type": "code",
   "execution_count": 38,
   "metadata": {},
   "outputs": [
    {
     "data": {
      "text/plain": [
       "<AxesSubplot:ylabel='Frequency'>"
      ]
     },
     "execution_count": 38,
     "metadata": {},
     "output_type": "execute_result"
    },
    {
     "data": {
      "image/png": "[encoded data removed]",
      "text/plain": [
       "<Figure size 432x288 with 1 Axes>"
      ]
     },
     "metadata": {},
     "output_type": "display_data"
    }
   ],
   "source": [
    "sns.set_style('whitegrid')\n",
    "df_data['Vintage'].plot(kind='hist', bins=7)"
   ]
  },
  {
   "cell_type": "code",
   "execution_count": 39,
   "metadata": {},
   "outputs": [],
   "source": [
    "# Similarly length of relationship with Bank is a good indicator of customer attributes in Banking scenario. \n",
    "# However, Vintage is a numeric value. So we convert this into Categorical (Use concept of Binning).\n",
    "bin_labels_5 = ['LessThan_20Months', '20To40_Months', '40To60_Months', '60To80_Months', '80OrMore_Months'] #Labels are data driven at this point - purely value based.\n",
    "df_data['Vintage_Quantile'] = pd.qcut(df_data['Vintage'],\n",
    "                              q=[0, .2, .4, .6, .8, 1],\n",
    "                              labels=bin_labels_5)"
   ]
  },
  {
   "cell_type": "code",
   "execution_count": 41,
   "metadata": {},
   "outputs": [
    {
     "data": {
      "text/plain": [
       "<AxesSubplot:ylabel='Frequency'>"
      ]
     },
     "execution_count": 41,
     "metadata": {},
     "output_type": "execute_result"
    },
    {
     "data": {
      "image/png": "[encoded data removed]",
      "text/plain": [
       "<Figure size 432x288 with 1 Axes>"
      ]
     },
     "metadata": {},
     "output_type": "display_data"
    }
   ],
   "source": [
    "sns.set_style('whitegrid')\n",
    "df_data['Age'].plot(kind='hist', bins=7)"
   ]
  },
  {
   "cell_type": "code",
   "execution_count": 42,
   "metadata": {},
   "outputs": [],
   "source": [
    "# Similarly Age of a Customer could be a good indicator of response to certain product promotions in Banking scenario (digital etc.)\n",
    "# However, Age is a numeric value. So we convert this into Categorical (Use concept of Binning).\n",
    "bin_labels_5 = ['LessThan_30Years', '30To40_Years', '40To50_Years', '50To60_Years', '60OrMore_Years'] #Labels are data driven at this point - purely value based.\n",
    "df_data['Age_Quantile'] = pd.qcut(df_data['Age'],\n",
    "                              q=[0, .2, .4, .6, .8, 1],\n",
    "                              labels=bin_labels_5)"
   ]
  },
  {
   "cell_type": "code",
   "execution_count": 43,
   "metadata": {},
   "outputs": [
    {
     "data": {
      "text/html": [
       "<div>\n",
       "<style scoped>\n",
       "    .dataframe tbody tr th:only-of-type {\n",
       "        vertical-align: middle;\n",
       "    }\n",
       "\n",
       "    .dataframe tbody tr th {\n",
       "        vertical-align: top;\n",
       "    }\n",
       "\n",
       "    .dataframe thead th {\n",
       "        text-align: right;\n",
       "    }\n",
       "</style>\n",
       "<table border=\"1\" class=\"dataframe\">\n",
       "  <thead>\n",
       "    <tr style=\"text-align: right;\">\n",
       "      <th></th>\n",
       "      <th>ID</th>\n",
       "      <th>Gender</th>\n",
       "      <th>Age</th>\n",
       "      <th>Region_Code</th>\n",
       "      <th>Occupation</th>\n",
       "      <th>Channel_Code</th>\n",
       "      <th>Vintage</th>\n",
       "      <th>Credit_Product</th>\n",
       "      <th>Avg_Account_Balance</th>\n",
       "      <th>Is_Active</th>\n",
       "      <th>Is_Lead</th>\n",
       "      <th>AAB_Quantile</th>\n",
       "      <th>Vintage_Quantile</th>\n",
       "      <th>Age_Quantile</th>\n",
       "    </tr>\n",
       "  </thead>\n",
       "  <tbody>\n",
       "    <tr>\n",
       "      <th>0</th>\n",
       "      <td>NNVBBKZB</td>\n",
       "      <td>Female</td>\n",
       "      <td>73</td>\n",
       "      <td>RG268</td>\n",
       "      <td>Other</td>\n",
       "      <td>X3</td>\n",
       "      <td>43</td>\n",
       "      <td>No</td>\n",
       "      <td>1045696</td>\n",
       "      <td>No</td>\n",
       "      <td>0</td>\n",
       "      <td>Gold</td>\n",
       "      <td>40To60_Months</td>\n",
       "      <td>60OrMore_Years</td>\n",
       "    </tr>\n",
       "    <tr>\n",
       "      <th>1</th>\n",
       "      <td>IDD62UNG</td>\n",
       "      <td>Female</td>\n",
       "      <td>30</td>\n",
       "      <td>RG277</td>\n",
       "      <td>Salaried</td>\n",
       "      <td>X1</td>\n",
       "      <td>32</td>\n",
       "      <td>No</td>\n",
       "      <td>581988</td>\n",
       "      <td>No</td>\n",
       "      <td>0</td>\n",
       "      <td>Silver</td>\n",
       "      <td>40To60_Months</td>\n",
       "      <td>30To40_Years</td>\n",
       "    </tr>\n",
       "    <tr>\n",
       "      <th>2</th>\n",
       "      <td>HD3DSEMC</td>\n",
       "      <td>Female</td>\n",
       "      <td>56</td>\n",
       "      <td>RG268</td>\n",
       "      <td>Self_Employed</td>\n",
       "      <td>X3</td>\n",
       "      <td>26</td>\n",
       "      <td>No</td>\n",
       "      <td>1484315</td>\n",
       "      <td>Yes</td>\n",
       "      <td>0</td>\n",
       "      <td>Platinum</td>\n",
       "      <td>20To40_Months</td>\n",
       "      <td>50To60_Years</td>\n",
       "    </tr>\n",
       "    <tr>\n",
       "      <th>3</th>\n",
       "      <td>BF3NC7KV</td>\n",
       "      <td>Male</td>\n",
       "      <td>34</td>\n",
       "      <td>RG270</td>\n",
       "      <td>Salaried</td>\n",
       "      <td>X1</td>\n",
       "      <td>19</td>\n",
       "      <td>No</td>\n",
       "      <td>470454</td>\n",
       "      <td>No</td>\n",
       "      <td>0</td>\n",
       "      <td>Bronze</td>\n",
       "      <td>LessThan_20Months</td>\n",
       "      <td>30To40_Years</td>\n",
       "    </tr>\n",
       "    <tr>\n",
       "      <th>4</th>\n",
       "      <td>TEASRWXV</td>\n",
       "      <td>Female</td>\n",
       "      <td>30</td>\n",
       "      <td>RG282</td>\n",
       "      <td>Salaried</td>\n",
       "      <td>X1</td>\n",
       "      <td>33</td>\n",
       "      <td>No</td>\n",
       "      <td>886787</td>\n",
       "      <td>No</td>\n",
       "      <td>0</td>\n",
       "      <td>Gold</td>\n",
       "      <td>40To60_Months</td>\n",
       "      <td>30To40_Years</td>\n",
       "    </tr>\n",
       "    <tr>\n",
       "      <th>...</th>\n",
       "      <td>...</td>\n",
       "      <td>...</td>\n",
       "      <td>...</td>\n",
       "      <td>...</td>\n",
       "      <td>...</td>\n",
       "      <td>...</td>\n",
       "      <td>...</td>\n",
       "      <td>...</td>\n",
       "      <td>...</td>\n",
       "      <td>...</td>\n",
       "      <td>...</td>\n",
       "      <td>...</td>\n",
       "      <td>...</td>\n",
       "      <td>...</td>\n",
       "    </tr>\n",
       "    <tr>\n",
       "      <th>245720</th>\n",
       "      <td>BPAWWXZN</td>\n",
       "      <td>Male</td>\n",
       "      <td>51</td>\n",
       "      <td>RG284</td>\n",
       "      <td>Self_Employed</td>\n",
       "      <td>X3</td>\n",
       "      <td>109</td>\n",
       "      <td>NaN</td>\n",
       "      <td>1925586</td>\n",
       "      <td>No</td>\n",
       "      <td>0</td>\n",
       "      <td>Diamond</td>\n",
       "      <td>80OrMore_Months</td>\n",
       "      <td>50To60_Years</td>\n",
       "    </tr>\n",
       "    <tr>\n",
       "      <th>245721</th>\n",
       "      <td>HFNB7JY8</td>\n",
       "      <td>Male</td>\n",
       "      <td>27</td>\n",
       "      <td>RG268</td>\n",
       "      <td>Salaried</td>\n",
       "      <td>X1</td>\n",
       "      <td>15</td>\n",
       "      <td>No</td>\n",
       "      <td>862952</td>\n",
       "      <td>Yes</td>\n",
       "      <td>0</td>\n",
       "      <td>Gold</td>\n",
       "      <td>LessThan_20Months</td>\n",
       "      <td>LessThan_30Years</td>\n",
       "    </tr>\n",
       "    <tr>\n",
       "      <th>245722</th>\n",
       "      <td>GEHAUCWT</td>\n",
       "      <td>Female</td>\n",
       "      <td>26</td>\n",
       "      <td>RG281</td>\n",
       "      <td>Salaried</td>\n",
       "      <td>X1</td>\n",
       "      <td>13</td>\n",
       "      <td>No</td>\n",
       "      <td>670659</td>\n",
       "      <td>No</td>\n",
       "      <td>0</td>\n",
       "      <td>Silver</td>\n",
       "      <td>LessThan_20Months</td>\n",
       "      <td>LessThan_30Years</td>\n",
       "    </tr>\n",
       "    <tr>\n",
       "      <th>245723</th>\n",
       "      <td>GE7V8SAH</td>\n",
       "      <td>Female</td>\n",
       "      <td>28</td>\n",
       "      <td>RG273</td>\n",
       "      <td>Salaried</td>\n",
       "      <td>X1</td>\n",
       "      <td>31</td>\n",
       "      <td>No</td>\n",
       "      <td>407504</td>\n",
       "      <td>No</td>\n",
       "      <td>0</td>\n",
       "      <td>Bronze</td>\n",
       "      <td>40To60_Months</td>\n",
       "      <td>LessThan_30Years</td>\n",
       "    </tr>\n",
       "    <tr>\n",
       "      <th>245724</th>\n",
       "      <td>BOCZSWLJ</td>\n",
       "      <td>Male</td>\n",
       "      <td>29</td>\n",
       "      <td>RG269</td>\n",
       "      <td>Salaried</td>\n",
       "      <td>X1</td>\n",
       "      <td>21</td>\n",
       "      <td>No</td>\n",
       "      <td>1129276</td>\n",
       "      <td>No</td>\n",
       "      <td>0</td>\n",
       "      <td>Platinum</td>\n",
       "      <td>20To40_Months</td>\n",
       "      <td>LessThan_30Years</td>\n",
       "    </tr>\n",
       "  </tbody>\n",
       "</table>\n",
       "<p>245725 rows × 14 columns</p>\n",
       "</div>"
      ],
      "text/plain": [
       "              ID  Gender  Age Region_Code     Occupation Channel_Code  \\\n",
       "0       NNVBBKZB  Female   73       RG268          Other           X3   \n",
       "1       IDD62UNG  Female   30       RG277       Salaried           X1   \n",
       "2       HD3DSEMC  Female   56       RG268  Self_Employed           X3   \n",
       "3       BF3NC7KV    Male   34       RG270       Salaried           X1   \n",
       "4       TEASRWXV  Female   30       RG282       Salaried           X1   \n",
       "...          ...     ...  ...         ...            ...          ...   \n",
       "245720  BPAWWXZN    Male   51       RG284  Self_Employed           X3   \n",
       "245721  HFNB7JY8    Male   27       RG268       Salaried           X1   \n",
       "245722  GEHAUCWT  Female   26       RG281       Salaried           X1   \n",
       "245723  GE7V8SAH  Female   28       RG273       Salaried           X1   \n",
       "245724  BOCZSWLJ    Male   29       RG269       Salaried           X1   \n",
       "\n",
       "        Vintage Credit_Product  Avg_Account_Balance Is_Active  Is_Lead  \\\n",
       "0            43             No              1045696        No        0   \n",
       "1            32             No               581988        No        0   \n",
       "2            26             No              1484315       Yes        0   \n",
       "3            19             No               470454        No        0   \n",
       "4            33             No               886787        No        0   \n",
       "...         ...            ...                  ...       ...      ...   \n",
       "245720      109            NaN              1925586        No        0   \n",
       "245721       15             No               862952       Yes        0   \n",
       "245722       13             No               670659        No        0   \n",
       "245723       31             No               407504        No        0   \n",
       "245724       21             No              1129276        No        0   \n",
       "\n",
       "       AAB_Quantile   Vintage_Quantile      Age_Quantile  \n",
       "0              Gold      40To60_Months    60OrMore_Years  \n",
       "1            Silver      40To60_Months      30To40_Years  \n",
       "2          Platinum      20To40_Months      50To60_Years  \n",
       "3            Bronze  LessThan_20Months      30To40_Years  \n",
       "4              Gold      40To60_Months      30To40_Years  \n",
       "...             ...                ...               ...  \n",
       "245720      Diamond    80OrMore_Months      50To60_Years  \n",
       "245721         Gold  LessThan_20Months  LessThan_30Years  \n",
       "245722       Silver  LessThan_20Months  LessThan_30Years  \n",
       "245723       Bronze      40To60_Months  LessThan_30Years  \n",
       "245724     Platinum      20To40_Months  LessThan_30Years  \n",
       "\n",
       "[245725 rows x 14 columns]"
      ]
     },
     "execution_count": 43,
     "metadata": {},
     "output_type": "execute_result"
    }
   ],
   "source": [
    "df_data"
   ]
  },
  {
   "cell_type": "code",
   "execution_count": 8,
   "metadata": {},
   "outputs": [
    {
     "data": {
      "text/html": [
       "<div>\n",
       "<style scoped>\n",
       "    .dataframe tbody tr th:only-of-type {\n",
       "        vertical-align: middle;\n",
       "    }\n",
       "\n",
       "    .dataframe tbody tr th {\n",
       "        vertical-align: top;\n",
       "    }\n",
       "\n",
       "    .dataframe thead th {\n",
       "        text-align: right;\n",
       "    }\n",
       "</style>\n",
       "<table border=\"1\" class=\"dataframe\">\n",
       "  <thead>\n",
       "    <tr style=\"text-align: right;\">\n",
       "      <th></th>\n",
       "      <th>Age</th>\n",
       "      <th>Vintage</th>\n",
       "      <th>Avg_Account_Balance</th>\n",
       "    </tr>\n",
       "    <tr>\n",
       "      <th>Is_Lead</th>\n",
       "      <th></th>\n",
       "      <th></th>\n",
       "      <th></th>\n",
       "    </tr>\n",
       "  </thead>\n",
       "  <tbody>\n",
       "    <tr>\n",
       "      <th>0</th>\n",
       "      <td>41.947662</td>\n",
       "      <td>41.913923</td>\n",
       "      <td>1.103018e+06</td>\n",
       "    </tr>\n",
       "    <tr>\n",
       "      <th>1</th>\n",
       "      <td>49.993944</td>\n",
       "      <td>63.183074</td>\n",
       "      <td>1.210034e+06</td>\n",
       "    </tr>\n",
       "  </tbody>\n",
       "</table>\n",
       "</div>"
      ],
      "text/plain": [
       "               Age    Vintage  Avg_Account_Balance\n",
       "Is_Lead                                           \n",
       "0        41.947662  41.913923         1.103018e+06\n",
       "1        49.993944  63.183074         1.210034e+06"
      ]
     },
     "execution_count": 8,
     "metadata": {},
     "output_type": "execute_result"
    }
   ],
   "source": [
    "# The average age of customers are potential leads is higher\n",
    "# Vintage of customers who are potential leads is higher - that is expected - longer the operations better potential / desirability\n",
    "# Average Balance of customers who are potential leads is higher - that is expected\n",
    "df_data.groupby(\"Is_Lead\").mean() "
   ]
  },
  {
   "cell_type": "markdown",
   "metadata": {},
   "source": [
    "### Categorical Data\n",
    "1. Which are the categorical data attributes in this set ?\n",
    "2. Most models expect numeric values. Few like DecisionTree are but most of algorithms expect numeric elements. So Can you encode categorical values as Numerics ? "
   ]
  },
  {
   "cell_type": "code",
   "execution_count": 6,
   "metadata": {},
   "outputs": [
    {
     "data": {
      "text/html": [
       "<div>\n",
       "<style scoped>\n",
       "    .dataframe tbody tr th:only-of-type {\n",
       "        vertical-align: middle;\n",
       "    }\n",
       "\n",
       "    .dataframe tbody tr th {\n",
       "        vertical-align: top;\n",
       "    }\n",
       "\n",
       "    .dataframe thead th {\n",
       "        text-align: right;\n",
       "    }\n",
       "</style>\n",
       "<table border=\"1\" class=\"dataframe\">\n",
       "  <thead>\n",
       "    <tr style=\"text-align: right;\">\n",
       "      <th>Is_Lead</th>\n",
       "      <th>0</th>\n",
       "      <th>1</th>\n",
       "    </tr>\n",
       "    <tr>\n",
       "      <th>Gender</th>\n",
       "      <th></th>\n",
       "      <th></th>\n",
       "    </tr>\n",
       "  </thead>\n",
       "  <tbody>\n",
       "    <tr>\n",
       "      <th>Female</th>\n",
       "      <td>88823</td>\n",
       "      <td>22705</td>\n",
       "    </tr>\n",
       "    <tr>\n",
       "      <th>Male</th>\n",
       "      <td>98614</td>\n",
       "      <td>35583</td>\n",
       "    </tr>\n",
       "  </tbody>\n",
       "</table>\n",
       "</div>"
      ],
      "text/plain": [
       "Is_Lead      0      1\n",
       "Gender               \n",
       "Female   88823  22705\n",
       "Male     98614  35583"
      ]
     },
     "execution_count": 6,
     "metadata": {},
     "output_type": "execute_result"
    }
   ],
   "source": [
    "pd.crosstab(df_data['Gender'], df_data['Is_Lead']) # 35583/58288 = 61% males are leads"
   ]
  },
  {
   "cell_type": "code",
   "execution_count": 9,
   "metadata": {},
   "outputs": [
    {
     "data": {
      "text/html": [
       "<div>\n",
       "<style scoped>\n",
       "    .dataframe tbody tr th:only-of-type {\n",
       "        vertical-align: middle;\n",
       "    }\n",
       "\n",
       "    .dataframe tbody tr th {\n",
       "        vertical-align: top;\n",
       "    }\n",
       "\n",
       "    .dataframe thead th {\n",
       "        text-align: right;\n",
       "    }\n",
       "</style>\n",
       "<table border=\"1\" class=\"dataframe\">\n",
       "  <thead>\n",
       "    <tr style=\"text-align: right;\">\n",
       "      <th></th>\n",
       "      <th>Age</th>\n",
       "      <th>Vintage</th>\n",
       "      <th>Avg_Account_Balance</th>\n",
       "      <th>Is_Lead</th>\n",
       "    </tr>\n",
       "    <tr>\n",
       "      <th>Gender</th>\n",
       "      <th></th>\n",
       "      <th></th>\n",
       "      <th></th>\n",
       "      <th></th>\n",
       "    </tr>\n",
       "  </thead>\n",
       "  <tbody>\n",
       "    <tr>\n",
       "      <th>Female</th>\n",
       "      <td>41.382639</td>\n",
       "      <td>41.764257</td>\n",
       "      <td>1.107373e+06</td>\n",
       "      <td>0.203581</td>\n",
       "    </tr>\n",
       "    <tr>\n",
       "      <th>Male</th>\n",
       "      <td>45.912114</td>\n",
       "      <td>51.276489</td>\n",
       "      <td>1.145881e+06</td>\n",
       "      <td>0.265155</td>\n",
       "    </tr>\n",
       "  </tbody>\n",
       "</table>\n",
       "</div>"
      ],
      "text/plain": [
       "              Age    Vintage  Avg_Account_Balance   Is_Lead\n",
       "Gender                                                     \n",
       "Female  41.382639  41.764257         1.107373e+06  0.203581\n",
       "Male    45.912114  51.276489         1.145881e+06  0.265155"
      ]
     },
     "execution_count": 9,
     "metadata": {},
     "output_type": "execute_result"
    }
   ],
   "source": [
    "# Categorical Analysis - Gender\n",
    "df_data.groupby(\"Gender\").mean()  "
   ]
  },
  {
   "cell_type": "code",
   "execution_count": 30,
   "metadata": {},
   "outputs": [
    {
     "data": {
      "text/html": [
       "<div>\n",
       "<style scoped>\n",
       "    .dataframe tbody tr th:only-of-type {\n",
       "        vertical-align: middle;\n",
       "    }\n",
       "\n",
       "    .dataframe tbody tr th {\n",
       "        vertical-align: top;\n",
       "    }\n",
       "\n",
       "    .dataframe thead th {\n",
       "        text-align: right;\n",
       "    }\n",
       "</style>\n",
       "<table border=\"1\" class=\"dataframe\">\n",
       "  <thead>\n",
       "    <tr style=\"text-align: right;\">\n",
       "      <th>Is_Lead</th>\n",
       "      <th>0</th>\n",
       "      <th>1</th>\n",
       "    </tr>\n",
       "    <tr>\n",
       "      <th>Occupation</th>\n",
       "      <th></th>\n",
       "      <th></th>\n",
       "    </tr>\n",
       "  </thead>\n",
       "  <tbody>\n",
       "    <tr>\n",
       "      <th>Entrepreneur</th>\n",
       "      <td>905</td>\n",
       "      <td>1762</td>\n",
       "    </tr>\n",
       "    <tr>\n",
       "      <th>Other</th>\n",
       "      <td>52984</td>\n",
       "      <td>17189</td>\n",
       "    </tr>\n",
       "    <tr>\n",
       "      <th>Salaried</th>\n",
       "      <td>60503</td>\n",
       "      <td>11496</td>\n",
       "    </tr>\n",
       "    <tr>\n",
       "      <th>Self_Employed</th>\n",
       "      <td>73045</td>\n",
       "      <td>27841</td>\n",
       "    </tr>\n",
       "  </tbody>\n",
       "</table>\n",
       "</div>"
      ],
      "text/plain": [
       "Is_Lead            0      1\n",
       "Occupation                 \n",
       "Entrepreneur     905   1762\n",
       "Other          52984  17189\n",
       "Salaried       60503  11496\n",
       "Self_Employed  73045  27841"
      ]
     },
     "execution_count": 30,
     "metadata": {},
     "output_type": "execute_result"
    }
   ],
   "source": [
    "pd.crosstab(df_data['Occupation'], df_data['Is_Lead']) # 27841/58288 = 48% Self_Employed are leads"
   ]
  },
  {
   "cell_type": "code",
   "execution_count": 11,
   "metadata": {},
   "outputs": [
    {
     "data": {
      "text/html": [
       "<div>\n",
       "<style scoped>\n",
       "    .dataframe tbody tr th:only-of-type {\n",
       "        vertical-align: middle;\n",
       "    }\n",
       "\n",
       "    .dataframe tbody tr th {\n",
       "        vertical-align: top;\n",
       "    }\n",
       "\n",
       "    .dataframe thead th {\n",
       "        text-align: right;\n",
       "    }\n",
       "</style>\n",
       "<table border=\"1\" class=\"dataframe\">\n",
       "  <thead>\n",
       "    <tr style=\"text-align: right;\">\n",
       "      <th></th>\n",
       "      <th>Age</th>\n",
       "      <th>Vintage</th>\n",
       "      <th>Avg_Account_Balance</th>\n",
       "      <th>Is_Lead</th>\n",
       "    </tr>\n",
       "    <tr>\n",
       "      <th>Occupation</th>\n",
       "      <th></th>\n",
       "      <th></th>\n",
       "      <th></th>\n",
       "      <th></th>\n",
       "    </tr>\n",
       "  </thead>\n",
       "  <tbody>\n",
       "    <tr>\n",
       "      <th>Entrepreneur</th>\n",
       "      <td>47.833521</td>\n",
       "      <td>69.664792</td>\n",
       "      <td>1.415043e+06</td>\n",
       "      <td>0.660667</td>\n",
       "    </tr>\n",
       "    <tr>\n",
       "      <th>Other</th>\n",
       "      <td>53.116797</td>\n",
       "      <td>54.924729</td>\n",
       "      <td>1.209870e+06</td>\n",
       "      <td>0.244952</td>\n",
       "    </tr>\n",
       "    <tr>\n",
       "      <th>Salaried</th>\n",
       "      <td>30.882901</td>\n",
       "      <td>26.348838</td>\n",
       "      <td>1.033420e+06</td>\n",
       "      <td>0.159669</td>\n",
       "    </tr>\n",
       "    <tr>\n",
       "      <th>Self_Employed</th>\n",
       "      <td>46.568563</td>\n",
       "      <td>55.527189</td>\n",
       "      <td>1.131946e+06</td>\n",
       "      <td>0.275965</td>\n",
       "    </tr>\n",
       "  </tbody>\n",
       "</table>\n",
       "</div>"
      ],
      "text/plain": [
       "                     Age    Vintage  Avg_Account_Balance   Is_Lead\n",
       "Occupation                                                        \n",
       "Entrepreneur   47.833521  69.664792         1.415043e+06  0.660667\n",
       "Other          53.116797  54.924729         1.209870e+06  0.244952\n",
       "Salaried       30.882901  26.348838         1.033420e+06  0.159669\n",
       "Self_Employed  46.568563  55.527189         1.131946e+06  0.275965"
      ]
     },
     "execution_count": 11,
     "metadata": {},
     "output_type": "execute_result"
    }
   ],
   "source": [
    "df_data.groupby(\"Occupation\").mean() # Enterpreneurs are better potential as Lead..."
   ]
  },
  {
   "cell_type": "code",
   "execution_count": 59,
   "metadata": {},
   "outputs": [
    {
     "data": {
      "text/html": [
       "<div>\n",
       "<style scoped>\n",
       "    .dataframe tbody tr th:only-of-type {\n",
       "        vertical-align: middle;\n",
       "    }\n",
       "\n",
       "    .dataframe tbody tr th {\n",
       "        vertical-align: top;\n",
       "    }\n",
       "\n",
       "    .dataframe thead th {\n",
       "        text-align: right;\n",
       "    }\n",
       "</style>\n",
       "<table border=\"1\" class=\"dataframe\">\n",
       "  <thead>\n",
       "    <tr style=\"text-align: right;\">\n",
       "      <th>Is_Lead</th>\n",
       "      <th>0</th>\n",
       "      <th>1</th>\n",
       "    </tr>\n",
       "    <tr>\n",
       "      <th>Credit_Product</th>\n",
       "      <th></th>\n",
       "      <th></th>\n",
       "    </tr>\n",
       "  </thead>\n",
       "  <tbody>\n",
       "    <tr>\n",
       "      <th>No</th>\n",
       "      <td>133734</td>\n",
       "      <td>10623</td>\n",
       "    </tr>\n",
       "    <tr>\n",
       "      <th>Yes</th>\n",
       "      <td>49353</td>\n",
       "      <td>22690</td>\n",
       "    </tr>\n",
       "  </tbody>\n",
       "</table>\n",
       "</div>"
      ],
      "text/plain": [
       "Is_Lead              0      1\n",
       "Credit_Product               \n",
       "No              133734  10623\n",
       "Yes              49353  22690"
      ]
     },
     "execution_count": 59,
     "metadata": {},
     "output_type": "execute_result"
    }
   ],
   "source": [
    "pd.crosstab(df_data['Credit_Product'], df_data['Is_Lead']) # Credit_Product 22690/33313  \n",
    "# 66% have no Credit Product / 33% have yes as value"
   ]
  },
  {
   "cell_type": "code",
   "execution_count": 37,
   "metadata": {},
   "outputs": [
    {
     "data": {
      "text/html": [
       "<div>\n",
       "<style scoped>\n",
       "    .dataframe tbody tr th:only-of-type {\n",
       "        vertical-align: middle;\n",
       "    }\n",
       "\n",
       "    .dataframe tbody tr th {\n",
       "        vertical-align: top;\n",
       "    }\n",
       "\n",
       "    .dataframe thead th {\n",
       "        text-align: right;\n",
       "    }\n",
       "</style>\n",
       "<table border=\"1\" class=\"dataframe\">\n",
       "  <thead>\n",
       "    <tr style=\"text-align: right;\">\n",
       "      <th>Is_Lead</th>\n",
       "      <th>0</th>\n",
       "      <th>1</th>\n",
       "    </tr>\n",
       "    <tr>\n",
       "      <th>Is_Active</th>\n",
       "      <th></th>\n",
       "      <th></th>\n",
       "    </tr>\n",
       "  </thead>\n",
       "  <tbody>\n",
       "    <tr>\n",
       "      <th>No</th>\n",
       "      <td>119007</td>\n",
       "      <td>31283</td>\n",
       "    </tr>\n",
       "    <tr>\n",
       "      <th>Yes</th>\n",
       "      <td>68430</td>\n",
       "      <td>27005</td>\n",
       "    </tr>\n",
       "  </tbody>\n",
       "</table>\n",
       "</div>"
      ],
      "text/plain": [
       "Is_Lead         0      1\n",
       "Is_Active               \n",
       "No         119007  31283\n",
       "Yes         68430  27005"
      ]
     },
     "execution_count": 37,
     "metadata": {},
     "output_type": "execute_result"
    }
   ],
   "source": [
    "pd.crosstab(df_data['Is_Active'], df_data['Is_Lead']) # Credit_Product 22690/33313  "
   ]
  },
  {
   "cell_type": "code",
   "execution_count": 38,
   "metadata": {},
   "outputs": [
    {
     "data": {
      "text/plain": [
       "<AxesSubplot:xlabel='Is_Active', ylabel='count'>"
      ]
     },
     "execution_count": 38,
     "metadata": {},
     "output_type": "execute_result"
    },
    {
     "data": {
      "image/png": "[encoded data removed]",
      "text/plain": [
       "<Figure size 432x288 with 1 Axes>"
      ]
     },
     "metadata": {
      "needs_background": "light"
     },
     "output_type": "display_data"
    }
   ],
   "source": [
    "sns.countplot(x='Is_Active',hue='Is_Lead', data=df_data)\n",
    "\n",
    "# 13% of leads not active and 11% are  active"
   ]
  },
  {
   "cell_type": "markdown",
   "metadata": {},
   "source": [
    "### Visual Analysis"
   ]
  },
  {
   "cell_type": "code",
   "execution_count": 13,
   "metadata": {},
   "outputs": [
    {
     "data": {
      "image/png": "[encoded data removed]",
      "text/plain": [
       "<Figure size 432x288 with 1 Axes>"
      ]
     },
     "metadata": {
      "needs_background": "light"
     },
     "output_type": "display_data"
    }
   ],
   "source": [
    "%matplotlib inline\n",
    "pd.crosstab(df_data.Occupation,df_data.Is_Lead).plot(kind='bar')\n",
    "plt.title('Potential as Lead Based on Occupation')\n",
    "plt.xlabel('Occupation')\n",
    "plt.ylabel('Split of Is Lead')\n",
    "plt.savefig('figOccupationLead')\n",
    "\n",
    "#Enterpreneurs seem to be better responding to credit card offers in relative terms"
   ]
  },
  {
   "cell_type": "code",
   "execution_count": 15,
   "metadata": {},
   "outputs": [
    {
     "data": {
      "image/png": "[encoded data removed]",
      "text/plain": [
       "<Figure size 432x288 with 1 Axes>"
      ]
     },
     "metadata": {
      "needs_background": "light"
     },
     "output_type": "display_data"
    }
   ],
   "source": [
    "%matplotlib inline\n",
    "pd.crosstab(df_data.Gender,df_data.Is_Lead).plot(kind='bar', stacked=True)\n",
    "plt.title('Potential as Lead Based on Gender')\n",
    "plt.xlabel('Gender')\n",
    "plt.ylabel('Split of Is Lead')\n",
    "plt.savefig('figGenderLead')\n",
    "\n",
    "#Based on Gender the response to Credit Card offers seems to be near neutral or no particular difference"
   ]
  },
  {
   "cell_type": "code",
   "execution_count": 20,
   "metadata": {},
   "outputs": [
    {
     "data": {
      "image/png": "[encoded data removed]",
      "text/plain": [
       "<Figure size 432x288 with 1 Axes>"
      ]
     },
     "metadata": {
      "needs_background": "light"
     },
     "output_type": "display_data"
    }
   ],
   "source": [
    "%matplotlib inline\n",
    "pd.crosstab(df_data.Is_Active,df_data.Is_Lead).plot(kind='bar',stacked=True)\n",
    "plt.title('Potential as Lead Based on Is_Active')\n",
    "plt.xlabel('Is_Active')\n",
    "plt.ylabel('Split of Is Lead')\n",
    "plt.savefig('figIsActiveLead')\n",
    "\n",
    "#Based on Is_Active, the response to Credit Card offers seems to be near neutral or no particular difference"
   ]
  },
  {
   "cell_type": "code",
   "execution_count": 22,
   "metadata": {},
   "outputs": [
    {
     "data": {
      "image/png": "[encoded data removed]",
      "text/plain": [
       "<Figure size 432x288 with 1 Axes>"
      ]
     },
     "metadata": {
      "needs_background": "light"
     },
     "output_type": "display_data"
    }
   ],
   "source": [
    "%matplotlib inline\n",
    "pd.crosstab(df_data.Channel_Code,df_data.Is_Lead).plot(kind='bar',stacked=True)\n",
    "plt.title('Potential as Lead Based on Channel_Code')\n",
    "plt.xlabel('Channel_Code')\n",
    "plt.ylabel('Split of Is Lead')\n",
    "plt.savefig('figChannelLead')\n",
    "\n",
    "#Channels X2 and X3 seems to be better channels for presenting Credit Card offers to potential leads"
   ]
  },
  {
   "cell_type": "code",
   "execution_count": 18,
   "metadata": {},
   "outputs": [
    {
     "data": {
      "image/png": "[encoded data removed]",
      "text/plain": [
       "<Figure size 432x288 with 1 Axes>"
      ]
     },
     "metadata": {
      "needs_background": "light"
     },
     "output_type": "display_data"
    }
   ],
   "source": [
    "%matplotlib inline\n",
    "pd.crosstab(df_data.Credit_Product,df_data.Is_Lead).plot(kind='bar',stacked=True)\n",
    "plt.title('Potential as Lead Based on Credit_Product')\n",
    "plt.xlabel('Credit_Product')\n",
    "plt.ylabel('Split of Is Lead')\n",
    "plt.savefig('figCreditProductLead')"
   ]
  },
  {
   "cell_type": "code",
   "execution_count": 19,
   "metadata": {},
   "outputs": [
    {
     "data": {
      "image/png": "[encoded data removed]",
      "text/plain": [
       "<Figure size 432x288 with 1 Axes>"
      ]
     },
     "metadata": {
      "needs_background": "light"
     },
     "output_type": "display_data"
    }
   ],
   "source": [
    "%matplotlib inline\n",
    "pd.crosstab(df_data.Region_Code,df_data.Is_Lead).plot(kind='bar')\n",
    "plt.title('Potential as Lead Based on Occupation')\n",
    "plt.xlabel('Region_Code')\n",
    "plt.ylabel('Split of Is Lead')\n",
    "plt.savefig('figRegionCodeLead') \n",
    "\n",
    "#Few Regions have higher potential of leads"
   ]
  },
  {
   "cell_type": "code",
   "execution_count": null,
   "metadata": {},
   "outputs": [],
   "source": []
  }
 ],
 "metadata": {
  "kernelspec": {
   "display_name": "Python 3",
   "language": "python",
   "name": "python3"
  },
  "language_info": {
   "codemirror_mode": {
    "name": "ipython",
    "version": 3
   },
   "file_extension": ".py",
   "mimetype": "text/x-python",
   "name": "python",
   "nbconvert_exporter": "python",
   "pygments_lexer": "ipython3",
   "version": "3.7.9"
  }
 },
 "nbformat": 4,
 "nbformat_minor": 4
}
